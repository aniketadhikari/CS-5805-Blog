{
  "cells": [
    {
      "cell_type": "markdown",
      "metadata": {},
      "source": [
        "# aniketadhikari.github.io\n",
        "\n",
        "## Quarto\n",
        "\n",
        "Quarto enables you to weave together content and executable code into a\n",
        "finished document. To learn more about Quarto see <https://quarto.org>."
      ],
      "id": "15245dc4-4ac7-45c2-8121-c4a8766ba13a"
    }
  ],
  "nbformat": 4,
  "nbformat_minor": 5,
  "metadata": {
    "kernelspec": {
      "display_name": "Python 3",
      "language": "python",
      "name": "python3"
    }
  }
}