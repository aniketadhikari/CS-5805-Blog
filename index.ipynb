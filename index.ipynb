{
  "cells": [
    {
      "cell_type": "markdown",
      "id": "3d82181b-8834-407a-a3bf-7012d5b914a4",
      "metadata": {},
      "source": [
        "# test_quarto"
      ]
    },
    {
      "cell_type": "code",
      "execution_count": null,
      "metadata": {},
      "outputs": [],
      "source": []
    }
  ],
  "metadata": {
    "kernelspec": {
      "display_name": "Python 3",
      "language": "python",
      "name": "python3"
    }
  },
  "nbformat": 4,
  "nbformat_minor": 5
}
