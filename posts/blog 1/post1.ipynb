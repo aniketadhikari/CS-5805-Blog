{
 "cells": [
  {
   "cell_type": "markdown",
   "metadata": {},
   "source": [
    "We start off by importing `pandas`, which will allow us to extract, aggregate, and analyze our data. We also need to import   `matplotlib` since we need to visualize the data as well.\n",
    "\n",
    "The aesthetic of the visualizations are altered as well. The size of the legend, axis, ticks, and font are all altered. "
   ]
  },
  {
   "cell_type": "code",
   "execution_count": 2,
   "metadata": {},
   "outputs": [],
   "source": [
    "import pandas as pd\n",
    "import matplotlib.pyplot as plt\n",
    "\n",
    "plt.rc('font', size=12) # font size \n",
    "plt.rc('axes', labelsize=14, titlesize=14) # font size of axis and label titles \n",
    "plt.rc('legend', fontsize=12) # font size of legend\n",
    "plt.rc('xtick', labelsize=5) # size of ticks on x-axis\n",
    "plt.rc('ytick', labelsize=10) # size of ticks on y-axis"
   ]
  },
  {
   "cell_type": "markdown",
   "metadata": {},
   "source": [
    "I decided to use a dataset from Kaggle of the first 7 generations of Pokemon. Pokemon is a really old video game franchise and essentially any time a new game was made, they would come up new Pokemon. The new Pokemon for the game would comprise of a generation and usually there's around 100 or more Pokemon per generation. This dataset shows basic information about Pokemon such as their names, weight, height, and number in the Pokedex. Additionally, it includes information that can be interesting to analyze when aggregated, such as attack, defense, hit points (HP), generation, if they are considered legendary, and much more.\n",
    "\n",
    "Here, we are loading the csv file and converting it into a `pandas` Series so that it can be examined. "
   ]
  },
  {
   "cell_type": "code",
   "execution_count": 3,
   "metadata": {},
   "outputs": [
    {
     "data": {
      "text/html": [
       "<div>\n",
       "<style scoped>\n",
       "    .dataframe tbody tr th:only-of-type {\n",
       "        vertical-align: middle;\n",
       "    }\n",
       "\n",
       "    .dataframe tbody tr th {\n",
       "        vertical-align: top;\n",
       "    }\n",
       "\n",
       "    .dataframe thead th {\n",
       "        text-align: right;\n",
       "    }\n",
       "</style>\n",
       "<table border=\"1\" class=\"dataframe\">\n",
       "  <thead>\n",
       "    <tr style=\"text-align: right;\">\n",
       "      <th></th>\n",
       "      <th>attack</th>\n",
       "      <th>base_egg_steps</th>\n",
       "      <th>base_happiness</th>\n",
       "      <th>base_total</th>\n",
       "      <th>capture_rate</th>\n",
       "      <th>defense</th>\n",
       "      <th>experience_growth</th>\n",
       "      <th>height_m</th>\n",
       "      <th>hp</th>\n",
       "      <th>name</th>\n",
       "      <th>percentage_male</th>\n",
       "      <th>pokedex_number</th>\n",
       "      <th>sp_attack</th>\n",
       "      <th>sp_defense</th>\n",
       "      <th>speed</th>\n",
       "      <th>type1</th>\n",
       "      <th>type2</th>\n",
       "      <th>weight_kg</th>\n",
       "      <th>generation</th>\n",
       "      <th>is_legendary</th>\n",
       "    </tr>\n",
       "  </thead>\n",
       "  <tbody>\n",
       "    <tr>\n",
       "      <th>0</th>\n",
       "      <td>49</td>\n",
       "      <td>5120</td>\n",
       "      <td>70</td>\n",
       "      <td>318</td>\n",
       "      <td>45</td>\n",
       "      <td>49</td>\n",
       "      <td>1059860</td>\n",
       "      <td>0.7</td>\n",
       "      <td>45</td>\n",
       "      <td>Bulbasaur</td>\n",
       "      <td>88.1</td>\n",
       "      <td>1</td>\n",
       "      <td>65</td>\n",
       "      <td>65</td>\n",
       "      <td>45</td>\n",
       "      <td>grass</td>\n",
       "      <td>poison</td>\n",
       "      <td>6.9</td>\n",
       "      <td>1</td>\n",
       "      <td>0</td>\n",
       "    </tr>\n",
       "    <tr>\n",
       "      <th>1</th>\n",
       "      <td>62</td>\n",
       "      <td>5120</td>\n",
       "      <td>70</td>\n",
       "      <td>405</td>\n",
       "      <td>45</td>\n",
       "      <td>63</td>\n",
       "      <td>1059860</td>\n",
       "      <td>1.0</td>\n",
       "      <td>60</td>\n",
       "      <td>Ivysaur</td>\n",
       "      <td>88.1</td>\n",
       "      <td>2</td>\n",
       "      <td>80</td>\n",
       "      <td>80</td>\n",
       "      <td>60</td>\n",
       "      <td>grass</td>\n",
       "      <td>poison</td>\n",
       "      <td>13.0</td>\n",
       "      <td>1</td>\n",
       "      <td>0</td>\n",
       "    </tr>\n",
       "    <tr>\n",
       "      <th>2</th>\n",
       "      <td>100</td>\n",
       "      <td>5120</td>\n",
       "      <td>70</td>\n",
       "      <td>625</td>\n",
       "      <td>45</td>\n",
       "      <td>123</td>\n",
       "      <td>1059860</td>\n",
       "      <td>2.0</td>\n",
       "      <td>80</td>\n",
       "      <td>Venusaur</td>\n",
       "      <td>88.1</td>\n",
       "      <td>3</td>\n",
       "      <td>122</td>\n",
       "      <td>120</td>\n",
       "      <td>80</td>\n",
       "      <td>grass</td>\n",
       "      <td>poison</td>\n",
       "      <td>100.0</td>\n",
       "      <td>1</td>\n",
       "      <td>0</td>\n",
       "    </tr>\n",
       "    <tr>\n",
       "      <th>3</th>\n",
       "      <td>52</td>\n",
       "      <td>5120</td>\n",
       "      <td>70</td>\n",
       "      <td>309</td>\n",
       "      <td>45</td>\n",
       "      <td>43</td>\n",
       "      <td>1059860</td>\n",
       "      <td>0.6</td>\n",
       "      <td>39</td>\n",
       "      <td>Charmander</td>\n",
       "      <td>88.1</td>\n",
       "      <td>4</td>\n",
       "      <td>60</td>\n",
       "      <td>50</td>\n",
       "      <td>65</td>\n",
       "      <td>fire</td>\n",
       "      <td>NaN</td>\n",
       "      <td>8.5</td>\n",
       "      <td>1</td>\n",
       "      <td>0</td>\n",
       "    </tr>\n",
       "    <tr>\n",
       "      <th>4</th>\n",
       "      <td>64</td>\n",
       "      <td>5120</td>\n",
       "      <td>70</td>\n",
       "      <td>405</td>\n",
       "      <td>45</td>\n",
       "      <td>58</td>\n",
       "      <td>1059860</td>\n",
       "      <td>1.1</td>\n",
       "      <td>58</td>\n",
       "      <td>Charmeleon</td>\n",
       "      <td>88.1</td>\n",
       "      <td>5</td>\n",
       "      <td>80</td>\n",
       "      <td>65</td>\n",
       "      <td>80</td>\n",
       "      <td>fire</td>\n",
       "      <td>NaN</td>\n",
       "      <td>19.0</td>\n",
       "      <td>1</td>\n",
       "      <td>0</td>\n",
       "    </tr>\n",
       "    <tr>\n",
       "      <th>...</th>\n",
       "      <td>...</td>\n",
       "      <td>...</td>\n",
       "      <td>...</td>\n",
       "      <td>...</td>\n",
       "      <td>...</td>\n",
       "      <td>...</td>\n",
       "      <td>...</td>\n",
       "      <td>...</td>\n",
       "      <td>...</td>\n",
       "      <td>...</td>\n",
       "      <td>...</td>\n",
       "      <td>...</td>\n",
       "      <td>...</td>\n",
       "      <td>...</td>\n",
       "      <td>...</td>\n",
       "      <td>...</td>\n",
       "      <td>...</td>\n",
       "      <td>...</td>\n",
       "      <td>...</td>\n",
       "      <td>...</td>\n",
       "    </tr>\n",
       "    <tr>\n",
       "      <th>796</th>\n",
       "      <td>101</td>\n",
       "      <td>30720</td>\n",
       "      <td>0</td>\n",
       "      <td>570</td>\n",
       "      <td>25</td>\n",
       "      <td>103</td>\n",
       "      <td>1250000</td>\n",
       "      <td>9.2</td>\n",
       "      <td>97</td>\n",
       "      <td>Celesteela</td>\n",
       "      <td>NaN</td>\n",
       "      <td>797</td>\n",
       "      <td>107</td>\n",
       "      <td>101</td>\n",
       "      <td>61</td>\n",
       "      <td>steel</td>\n",
       "      <td>flying</td>\n",
       "      <td>999.9</td>\n",
       "      <td>7</td>\n",
       "      <td>1</td>\n",
       "    </tr>\n",
       "    <tr>\n",
       "      <th>797</th>\n",
       "      <td>181</td>\n",
       "      <td>30720</td>\n",
       "      <td>0</td>\n",
       "      <td>570</td>\n",
       "      <td>255</td>\n",
       "      <td>131</td>\n",
       "      <td>1250000</td>\n",
       "      <td>0.3</td>\n",
       "      <td>59</td>\n",
       "      <td>Kartana</td>\n",
       "      <td>NaN</td>\n",
       "      <td>798</td>\n",
       "      <td>59</td>\n",
       "      <td>31</td>\n",
       "      <td>109</td>\n",
       "      <td>grass</td>\n",
       "      <td>steel</td>\n",
       "      <td>0.1</td>\n",
       "      <td>7</td>\n",
       "      <td>1</td>\n",
       "    </tr>\n",
       "    <tr>\n",
       "      <th>798</th>\n",
       "      <td>101</td>\n",
       "      <td>30720</td>\n",
       "      <td>0</td>\n",
       "      <td>570</td>\n",
       "      <td>15</td>\n",
       "      <td>53</td>\n",
       "      <td>1250000</td>\n",
       "      <td>5.5</td>\n",
       "      <td>223</td>\n",
       "      <td>Guzzlord</td>\n",
       "      <td>NaN</td>\n",
       "      <td>799</td>\n",
       "      <td>97</td>\n",
       "      <td>53</td>\n",
       "      <td>43</td>\n",
       "      <td>dark</td>\n",
       "      <td>dragon</td>\n",
       "      <td>888.0</td>\n",
       "      <td>7</td>\n",
       "      <td>1</td>\n",
       "    </tr>\n",
       "    <tr>\n",
       "      <th>799</th>\n",
       "      <td>107</td>\n",
       "      <td>30720</td>\n",
       "      <td>0</td>\n",
       "      <td>600</td>\n",
       "      <td>3</td>\n",
       "      <td>101</td>\n",
       "      <td>1250000</td>\n",
       "      <td>2.4</td>\n",
       "      <td>97</td>\n",
       "      <td>Necrozma</td>\n",
       "      <td>NaN</td>\n",
       "      <td>800</td>\n",
       "      <td>127</td>\n",
       "      <td>89</td>\n",
       "      <td>79</td>\n",
       "      <td>psychic</td>\n",
       "      <td>NaN</td>\n",
       "      <td>230.0</td>\n",
       "      <td>7</td>\n",
       "      <td>1</td>\n",
       "    </tr>\n",
       "    <tr>\n",
       "      <th>800</th>\n",
       "      <td>95</td>\n",
       "      <td>30720</td>\n",
       "      <td>0</td>\n",
       "      <td>600</td>\n",
       "      <td>3</td>\n",
       "      <td>115</td>\n",
       "      <td>1250000</td>\n",
       "      <td>1.0</td>\n",
       "      <td>80</td>\n",
       "      <td>Magearna</td>\n",
       "      <td>NaN</td>\n",
       "      <td>801</td>\n",
       "      <td>130</td>\n",
       "      <td>115</td>\n",
       "      <td>65</td>\n",
       "      <td>steel</td>\n",
       "      <td>fairy</td>\n",
       "      <td>80.5</td>\n",
       "      <td>7</td>\n",
       "      <td>1</td>\n",
       "    </tr>\n",
       "  </tbody>\n",
       "</table>\n",
       "<p>801 rows × 20 columns</p>\n",
       "</div>"
      ],
      "text/plain": [
       "     attack  base_egg_steps  base_happiness  base_total capture_rate  defense  \\\n",
       "0        49            5120              70         318           45       49   \n",
       "1        62            5120              70         405           45       63   \n",
       "2       100            5120              70         625           45      123   \n",
       "3        52            5120              70         309           45       43   \n",
       "4        64            5120              70         405           45       58   \n",
       "..      ...             ...             ...         ...          ...      ...   \n",
       "796     101           30720               0         570           25      103   \n",
       "797     181           30720               0         570          255      131   \n",
       "798     101           30720               0         570           15       53   \n",
       "799     107           30720               0         600            3      101   \n",
       "800      95           30720               0         600            3      115   \n",
       "\n",
       "     experience_growth  height_m   hp        name  percentage_male  \\\n",
       "0              1059860       0.7   45   Bulbasaur             88.1   \n",
       "1              1059860       1.0   60     Ivysaur             88.1   \n",
       "2              1059860       2.0   80    Venusaur             88.1   \n",
       "3              1059860       0.6   39  Charmander             88.1   \n",
       "4              1059860       1.1   58  Charmeleon             88.1   \n",
       "..                 ...       ...  ...         ...              ...   \n",
       "796            1250000       9.2   97  Celesteela              NaN   \n",
       "797            1250000       0.3   59     Kartana              NaN   \n",
       "798            1250000       5.5  223    Guzzlord              NaN   \n",
       "799            1250000       2.4   97    Necrozma              NaN   \n",
       "800            1250000       1.0   80    Magearna              NaN   \n",
       "\n",
       "     pokedex_number  sp_attack  sp_defense  speed    type1   type2  weight_kg  \\\n",
       "0                 1         65          65     45    grass  poison        6.9   \n",
       "1                 2         80          80     60    grass  poison       13.0   \n",
       "2                 3        122         120     80    grass  poison      100.0   \n",
       "3                 4         60          50     65     fire     NaN        8.5   \n",
       "4                 5         80          65     80     fire     NaN       19.0   \n",
       "..              ...        ...         ...    ...      ...     ...        ...   \n",
       "796             797        107         101     61    steel  flying      999.9   \n",
       "797             798         59          31    109    grass   steel        0.1   \n",
       "798             799         97          53     43     dark  dragon      888.0   \n",
       "799             800        127          89     79  psychic     NaN      230.0   \n",
       "800             801        130         115     65    steel   fairy       80.5   \n",
       "\n",
       "     generation  is_legendary  \n",
       "0             1             0  \n",
       "1             1             0  \n",
       "2             1             0  \n",
       "3             1             0  \n",
       "4             1             0  \n",
       "..          ...           ...  \n",
       "796           7             1  \n",
       "797           7             1  \n",
       "798           7             1  \n",
       "799           7             1  \n",
       "800           7             1  \n",
       "\n",
       "[801 rows x 20 columns]"
      ]
     },
     "execution_count": 3,
     "metadata": {},
     "output_type": "execute_result"
    }
   ],
   "source": [
    "data_source_raw = \"../../datasets/pokemon.csv\"\n",
    "data_source_result = pd.read_csv(data_source_raw)\n",
    "data_source_result"
   ]
  },
  {
   "cell_type": "markdown",
   "metadata": {},
   "source": [
    "Taking a look at the data above, we can see there are 20 columns total. We can then run the `info()` command on the dataset to get a breakdown of datatypes and more.\n",
    "\n",
    "As shown below, 16 of the 20 columns are numerical values. Of the 16, most of them are *discrete variables*  since they are integer values such as:\n",
    "- `attack`\n",
    "- `base_egg_steps`\n",
    "- `base_happiness`\n",
    "- `base_total`\n",
    "- `defense`\n",
    "- `experience_growth`\n",
    "- `hp`\n",
    "- `pokedex_number`\n",
    "- `sp_attack`\n",
    "- `sp_defense`\n",
    "- `speed`\n",
    "- `generation`\n",
    "- `is_legendary`\n",
    "\n",
    "The others are *continuous variables* because they can take on an infinite number of values within a given range:\n",
    "\n",
    "- `height_m`\n",
    "- `percentage_male`\n",
    "- `weight_kg`"
   ]
  },
  {
   "cell_type": "code",
   "execution_count": 4,
   "metadata": {},
   "outputs": [
    {
     "name": "stdout",
     "output_type": "stream",
     "text": [
      "<class 'pandas.core.frame.DataFrame'>\n",
      "RangeIndex: 801 entries, 0 to 800\n",
      "Data columns (total 20 columns):\n",
      " #   Column             Non-Null Count  Dtype  \n",
      "---  ------             --------------  -----  \n",
      " 0   attack             801 non-null    int64  \n",
      " 1   base_egg_steps     801 non-null    int64  \n",
      " 2   base_happiness     801 non-null    int64  \n",
      " 3   base_total         801 non-null    int64  \n",
      " 4   capture_rate       801 non-null    object \n",
      " 5   defense            801 non-null    int64  \n",
      " 6   experience_growth  801 non-null    int64  \n",
      " 7   height_m           781 non-null    float64\n",
      " 8   hp                 801 non-null    int64  \n",
      " 9   name               801 non-null    object \n",
      " 10  percentage_male    703 non-null    float64\n",
      " 11  pokedex_number     801 non-null    int64  \n",
      " 12  sp_attack          801 non-null    int64  \n",
      " 13  sp_defense         801 non-null    int64  \n",
      " 14  speed              801 non-null    int64  \n",
      " 15  type1              801 non-null    object \n",
      " 16  type2              417 non-null    object \n",
      " 17  weight_kg          781 non-null    float64\n",
      " 18  generation         801 non-null    int64  \n",
      " 19  is_legendary       801 non-null    int64  \n",
      "dtypes: float64(3), int64(13), object(4)\n",
      "memory usage: 125.3+ KB\n"
     ]
    }
   ],
   "source": [
    "data_source_result.info()"
   ]
  },
  {
   "cell_type": "markdown",
   "metadata": {},
   "source": [
    "Getting specific columns that are important. "
   ]
  },
  {
   "cell_type": "markdown",
   "metadata": {},
   "source": [
    "There's a lot of information in this file, with a lot of it being unnecessary at the moment.\n",
    "\n",
    "As a result, we're going to filter for specific columns and we're going to rename the columns. In this code, we filter for the `generation` and `is_legendary` column so we don't have to rename every single column. Instead, we're just renaming the columns that are important to us. We rename `generation` to `Generation` and `is_legendary` to `Legendary`"
   ]
  },
  {
   "cell_type": "code",
   "execution_count": 7,
   "metadata": {},
   "outputs": [],
   "source": [
    "generation_legends = data_source_result[[\"generation\", \"is_legendary\"]]\n",
    "generation_legends = generation_legends.rename(columns={'is_legendary':\"Legendary\", 'generation':\"Generation\"})"
   ]
  },
  {
   "cell_type": "markdown",
   "metadata": {},
   "source": [
    "Afterwards, we determine how many legendary Pokemon are there for each generation.\n",
    "\n",
    "In this example, `generation` represents a discrete variable since it exists as an integer within a fixed range of 1-7. \n",
    "\n",
    "We find that the generation with the most legenedary Pokemon is generation 7. This is done by running the `groupby()` function on the `generation` column then subsequently running `agg` to find the number of legendary pokemon.\n",
    "\n",
    "Once we sort, it becomes increasingly clear which that Generations 7, 4, 5 are the most ripe with legendary Pokemon"
   ]
  },
  {
   "cell_type": "code",
   "execution_count": 13,
   "metadata": {},
   "outputs": [
    {
     "data": {
      "text/html": [
       "<div>\n",
       "<style scoped>\n",
       "    .dataframe tbody tr th:only-of-type {\n",
       "        vertical-align: middle;\n",
       "    }\n",
       "\n",
       "    .dataframe tbody tr th {\n",
       "        vertical-align: top;\n",
       "    }\n",
       "\n",
       "    .dataframe thead th {\n",
       "        text-align: right;\n",
       "    }\n",
       "</style>\n",
       "<table border=\"1\" class=\"dataframe\">\n",
       "  <thead>\n",
       "    <tr style=\"text-align: right;\">\n",
       "      <th></th>\n",
       "      <th>Legendary</th>\n",
       "    </tr>\n",
       "    <tr>\n",
       "      <th>Generation</th>\n",
       "      <th></th>\n",
       "    </tr>\n",
       "  </thead>\n",
       "  <tbody>\n",
       "    <tr>\n",
       "      <th>7</th>\n",
       "      <td>17</td>\n",
       "    </tr>\n",
       "    <tr>\n",
       "      <th>4</th>\n",
       "      <td>13</td>\n",
       "    </tr>\n",
       "    <tr>\n",
       "      <th>5</th>\n",
       "      <td>13</td>\n",
       "    </tr>\n",
       "    <tr>\n",
       "      <th>3</th>\n",
       "      <td>10</td>\n",
       "    </tr>\n",
       "    <tr>\n",
       "      <th>2</th>\n",
       "      <td>6</td>\n",
       "    </tr>\n",
       "    <tr>\n",
       "      <th>6</th>\n",
       "      <td>6</td>\n",
       "    </tr>\n",
       "    <tr>\n",
       "      <th>1</th>\n",
       "      <td>5</td>\n",
       "    </tr>\n",
       "  </tbody>\n",
       "</table>\n",
       "</div>"
      ],
      "text/plain": [
       "            Legendary\n",
       "Generation           \n",
       "7                  17\n",
       "4                  13\n",
       "5                  13\n",
       "3                  10\n",
       "2                   6\n",
       "6                   6\n",
       "1                   5"
      ]
     },
     "execution_count": 13,
     "metadata": {},
     "output_type": "execute_result"
    }
   ],
   "source": [
    "legendary_per_generation = generation_legends.groupby(\"Generation\").agg({\"Legendary\":\"sum\", \"Generation\":\"first\"})\n",
    "legendary_per_generation[['Legendary']].sort_values(by=\"Legendary\", ascending=False)"
   ]
  },
  {
   "cell_type": "markdown",
   "metadata": {},
   "source": [
    "Getting the data, we can now visualize it on a bar graph to compare the number of legendary pokemon across generation."
   ]
  },
  {
   "cell_type": "code",
   "execution_count": 20,
   "metadata": {},
   "outputs": [
    {
     "data": {
      "image/png": "[encoded data removed]",
      "text/plain": [
       "<Figure size 640x480 with 1 Axes>"
      ]
     },
     "metadata": {},
     "output_type": "display_data"
    }
   ],
   "source": [
    "legendary_per_generation.plot(kind=\"bar\", x=\"Generation\", y=\"Legendary\", title=\"Legendary Pokemon Per Generation\", ylabel=\"Number of Legendary Pokemon\", legend=False)\n",
    "plt.axis([-1,7 , 0, 25])\n",
    "plt.show()"
   ]
  },
  {
   "cell_type": "markdown",
   "metadata": {},
   "source": [
    "So we've simply pointed out discrete variables and continuous variables here. We've managed to create a discrete variable by counting the number of legendary Pokemon. But what does this have to do with probability? Well we can take a closer look at Pokemon from a specific generation and break it down further. Here we can figure out what are the odds that a Pokemon from Generation 7 is classified as Legendary?"
   ]
  },
  {
   "cell_type": "markdown",
   "metadata": {},
   "source": [
    "We've already imported everything we need, so we need to start by filtering by the generation. Here we have filtered so that only Pokemon from generation 7 will appear."
   ]
  },
  {
   "cell_type": "code",
   "execution_count": 21,
   "metadata": {},
   "outputs": [],
   "source": [
    "generation_num = 7\n",
    "gen7_pokemon = data_source_result[data_source_result['generation']==generation_num]\n"
   ]
  },
  {
   "cell_type": "markdown",
   "metadata": {},
   "source": [
    "Now that we've gotten the specific Pokemon that we want, we also need to get the column we want. Here we are using the `is_legendary` column because we are evaluating which Pokemon are and aren't legendary. While we could get the count of each, it is probably more meaningful to get percentage breakdowns of them. As a result, we use `value_counts` to get the probability of 0 or 1, but we also normalize the results so as to get percentage values rather than just a count."
   ]
  },
  {
   "cell_type": "code",
   "execution_count": 22,
   "metadata": {},
   "outputs": [],
   "source": [
    "legendary_pokemon = gen7_pokemon['is_legendary']\n",
    "legendary_percentages = legendary_pokemon.value_counts(normalize=True)"
   ]
  },
  {
   "cell_type": "markdown",
   "metadata": {},
   "source": [
    " From there, we use 0 and 1 as index values and the percentages that were calculated earlier are used as the values. "
   ]
  },
  {
   "cell_type": "code",
   "execution_count": 23,
   "metadata": {},
   "outputs": [
    {
     "data": {
      "text/plain": [
       "0    0.7875\n",
       "1    0.2125\n",
       "dtype: float64"
      ]
     },
     "execution_count": 23,
     "metadata": {},
     "output_type": "execute_result"
    }
   ],
   "source": [
    "\n",
    "legendary_percentages = pd.Series(legendary_percentages.values, index=legendary_pokemon.unique())\n",
    "legendary_percentages"
   ]
  },
  {
   "cell_type": "markdown",
   "metadata": {},
   "source": [
    "From there, I created a pie graph since we're only comparing 2 values. As we can see, there is 78.75% non-legendary Pokemon and 21.25% legendary Pokemon in Generation 7"
   ]
  },
  {
   "cell_type": "code",
   "execution_count": 24,
   "metadata": {},
   "outputs": [
    {
     "data": {
      "image/png": "[encoded data removed]",
      "text/plain": [
       "<Figure size 640x480 with 1 Axes>"
      ]
     },
     "metadata": {},
     "output_type": "display_data"
    }
   ],
   "source": [
    "\n",
    "legendary_percentages.plot(kind=\"pie\", ylabel=\"\", title=\"% of Legendary Gen 7 Pokemon\", labels=[\"Not Legendary\", \"Legendary\"], autopct='%.1f%%')\n",
    "plt.show()"
   ]
  },
  {
   "cell_type": "markdown",
   "metadata": {},
   "source": [
    "We could also factor in conditional probablity and Bayes' Theorem. If we were to play a guessing game for every single Pokemon in this dataset, guessing the right Pokemon would be really challenging because there is over 800 Pokemon. We would have only a 0.12% chance of guessing right!"
   ]
  },
  {
   "cell_type": "code",
   "execution_count": 54,
   "metadata": {},
   "outputs": [
    {
     "data": {
      "text/plain": [
       "0.12484394506866417"
      ]
     },
     "execution_count": 54,
     "metadata": {},
     "output_type": "execute_result"
    }
   ],
   "source": [
    "total_num_pokemon = data_source_result['pokedex_number'].count()\n",
    "1/total_num_pokemon * 100"
   ]
  },
  {
   "cell_type": "markdown",
   "metadata": {},
   "source": [
    "But what if we found out that the Pokemon is in Generation 1 and is also a legendary pokemon? That would certainly increase our odds!\n",
    "\n",
    "Here we can filter for Pokemon that appear in Generation 1, filter for the legendary Pokemon, and then get the count which is 5. "
   ]
  },
  {
   "cell_type": "code",
   "execution_count": 55,
   "metadata": {},
   "outputs": [],
   "source": [
    "gen1_pokemon = data_source_result[data_source_result['generation']==1]\n",
    "legendary_gen1 = gen1_pokemon[gen1_pokemon['is_legendary']==1]\n",
    "legendary_gen1_count = legendary_gen1['name'].count()\n",
    "\n"
   ]
  },
  {
   "cell_type": "markdown",
   "metadata": {},
   "source": [
    "We then do 1 divided by the count to get our new odds. We have improved our guessing odds from 0.1% to 20%!"
   ]
  },
  {
   "cell_type": "code",
   "execution_count": 56,
   "metadata": {},
   "outputs": [
    {
     "data": {
      "text/plain": [
       "20.0"
      ]
     },
     "execution_count": 56,
     "metadata": {},
     "output_type": "execute_result"
    }
   ],
   "source": [
    "1/legendary_gen1_count * 100"
   ]
  },
  {
   "cell_type": "markdown",
   "metadata": {},
   "source": [
    "This showcasing *Bayes' Theorem*, which suggests bringing in new evidence will effect the outcome of the event. In our case, we found out that the Pokemon we were looking for is in Generation 1 and Legendary. This narrowed down the choices Pokemon we can guess from"
   ]
  }
 ],
 "metadata": {
  "kernelspec": {
   "display_name": "Python 3 (ipykernel)",
   "language": "python",
   "name": "python3"
  },
  "language_info": {
   "codemirror_mode": {
    "name": "ipython",
    "version": 3
   },
   "file_extension": ".py",
   "mimetype": "text/x-python",
   "name": "python",
   "nbconvert_exporter": "python",
   "pygments_lexer": "ipython3",
   "version": "3.10.12"
  }
 },
 "nbformat": 4,
 "nbformat_minor": 2
}
