{
 "cells": [
  {
   "cell_type": "markdown",
   "metadata": {},
   "source": [
    "We start off by importing `pandas`, which will allow us to extract, aggregate, and analyze our data. We also need to import   `matplotlib` since we need to visualize the data as well.\n",
    "\n",
    "The aesthetic of the visualizations are altered as well. The size of the legend, axis, ticks, and font are all altered. "
   ]
  },
  {
   "cell_type": "code",
   "execution_count": 1,
   "metadata": {},
   "outputs": [],
   "source": [
    "import pandas as pd\n",
    "import matplotlib.pyplot as plt\n",
    "\n",
    "plt.rc('font', size=12) # font size \n",
    "plt.rc('axes', labelsize=14, titlesize=14) # font size of axis and label titles \n",
    "plt.rc('legend', fontsize=12) # font size of legend\n",
    "plt.rc('xtick', labelsize=5) # size of ticks on x-axis\n",
    "plt.rc('ytick', labelsize=10) # size of ticks on y-axis"
   ]
  },
  {
   "cell_type": "markdown",
   "metadata": {},
   "source": [
    "I decided to use a dataset from Kaggle of the first 7 generations of Pokemon. This dataset shows basic information about Pokemon such as their names, weight, height, and number in the Pokedex. Additionally, it includes information that can be interesting to analyze when aggregated, such as attack, defense, hit points (HP), generation, and if they are considered legendary. Here, we are loading the csv file and converting it into a `pandas` Series so that it can be examined. "
   ]
  },
  {
   "cell_type": "code",
   "execution_count": 2,
   "metadata": {},
   "outputs": [],
   "source": [
    "data_source_raw = \"../../datasets/pokemon.csv\"\n",
    "data_source_result = pd.read_csv(data_source_raw)"
   ]
  },
  {
   "cell_type": "markdown",
   "metadata": {},
   "source": [
    "Getting specific columns that are important. "
   ]
  },
  {
   "cell_type": "markdown",
   "metadata": {},
   "source": [
    "There's a lot of information in this file, with a lot of it being unnecessary at the moment.\n",
    "\n",
    "As a result, we're going to filter for specific columns. In this code, we've filtered for the generation and legendary column."
   ]
  },
  {
   "cell_type": "code",
   "execution_count": 4,
   "metadata": {},
   "outputs": [],
   "source": [
    "generation_legends = data_source_result[[\"generation\", \"is_legendary\"]]"
   ]
  },
  {
   "cell_type": "markdown",
   "metadata": {},
   "source": [
    "Afterwards, we determine how many legendary Pokemon are there for each generation.\n",
    "\n",
    "In this example, `generation` represents a discrete variable since it exists as an integer within a fixed range of 1-7. \n",
    "\n",
    "We find that the generation with the most legenedary Pokemon is generation 7. This is done by running the `groupby()` function on the `generation` column then subsequently running `agg` to find the number of legendary pokemon."
   ]
  },
  {
   "cell_type": "code",
   "execution_count": 15,
   "metadata": {},
   "outputs": [
    {
     "name": "stdout",
     "output_type": "stream",
     "text": [
      "            is_legendary  generation\n",
      "generation                          \n",
      "1                      5           1\n",
      "2                      6           2\n",
      "3                     10           3\n",
      "4                     13           4\n",
      "5                     13           5\n",
      "6                      6           6\n",
      "7                     17           7\n"
     ]
    }
   ],
   "source": [
    "\n",
    "legendary_per_generation = generation_legends.groupby(\"generation\").agg({\"is_legendary\":\"sum\", \"generation\":\"first\"})\n",
    "print(legendary_per_generation)"
   ]
  },
  {
   "cell_type": "markdown",
   "metadata": {},
   "source": [
    "Getting the data, we can now visualize it on a bar graph to compare the number of legendary pokemon across generation"
   ]
  },
  {
   "cell_type": "code",
   "execution_count": 17,
   "metadata": {},
   "outputs": [
    {
     "data": {
      "text/plain": [
       "(-1.0, 7.0, 0.0, 25.0)"
      ]
     },
     "execution_count": 17,
     "metadata": {},
     "output_type": "execute_result"
    },
    {
     "data": {
      "image/png": "[encoded data removed]",
      "text/plain": [
       "<Figure size 640x480 with 1 Axes>"
      ]
     },
     "metadata": {},
     "output_type": "display_data"
    }
   ],
   "source": [
    "legendary_per_generation.plot(kind=\"bar\", grid=True, x=\"generation\", y=\"is_legendary\")\n",
    "plt.axis([-1,7 , 0, 25])\n",
    "plt.ann"
   ]
  }
 ],
 "metadata": {
  "kernelspec": {
   "display_name": "Python 3 (ipykernel)",
   "language": "python",
   "name": "python3"
  },
  "language_info": {
   "codemirror_mode": {
    "name": "ipython",
    "version": 3
   },
   "file_extension": ".py",
   "mimetype": "text/x-python",
   "name": "python",
   "nbconvert_exporter": "python",
   "pygments_lexer": "ipython3",
   "version": "3.10.12"
  }
 },
 "nbformat": 4,
 "nbformat_minor": 2
}
