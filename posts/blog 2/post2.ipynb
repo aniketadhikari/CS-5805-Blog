{
  "cells": [
    {
      "cell_type": "markdown",
      "metadata": {},
      "source": [
        "# Clustering\n",
        "\n",
        "Aniket Adhikari  \n",
        "2023-10-25\n",
        "\n",
        "This is a post with executable code."
      ],
      "id": "8cf69428-ce6d-4831-91fd-ac65244056cd"
    }
  ],
  "nbformat": 4,
  "nbformat_minor": 5,
  "metadata": {
    "kernelspec": {
      "display_name": "Python 3",
      "language": "python",
      "name": "python3"
    }
  }
}